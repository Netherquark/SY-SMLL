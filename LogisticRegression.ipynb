{
 "cells": [
  {
   "cell_type": "markdown",
   "metadata": {},
   "source": [
    "# Comprehensive Analysis: Regression & Logistic Regression\n",
    "\n",
    "This notebook performs two tasks with short variable names:\n",
    "\n",
    "1. **Regression Analysis** using an Advertising dataset:\n",
    "   - Load and explore data.\n",
    "   - Implement Linear, Ridge, and Lasso regression.\n",
    "   - Evaluate models with MSE, RMSE, and R².\n",
    "   - Visualize predictions vs. actual sales.\n",
    "\n",
    "2. **Logistic Regression Classification** using a filtered Iris dataset:\n",
    "   - Convert the Iris dataset to a binary classification problem.\n",
    "   - Train a Logistic Regression model.\n",
    "   - Evaluate using Accuracy, Confusion Matrix, Classification Report, and ROC Curve with AUC.\n"
   ]
  },
  {
   "cell_type": "markdown",
   "metadata": {},
   "source": [
    "#### Part 1: Regression Analysis"
   ]
  },
  {
   "cell_type": "code",
   "execution_count": 18,
   "metadata": {},
   "outputs": [],
   "source": [
    "import numpy as np\n",
    "import pandas as pd\n",
    "import matplotlib.pyplot as plt\n",
    "import seaborn as sns\n",
    "\n",
    "from sklearn.linear_model import LinearRegression, Ridge, Lasso\n",
    "from sklearn.model_selection import train_test_split\n",
    "from sklearn.metrics import mean_squared_error, r2_score\n",
    "\n",
    "rs = 42"
   ]
  },
  {
   "cell_type": "markdown",
   "metadata": {},
   "source": [
    "#### Load and preprocess the advertising dataset"
   ]
  },
  {
   "cell_type": "code",
   "execution_count": 19,
   "metadata": {},
   "outputs": [
    {
     "name": "stdout",
     "output_type": "stream",
     "text": [
      "Head:\n",
      "    Unnamed: 0     TV  Radio  Newspaper  Sales\n",
      "0           1  230.1   37.8       69.2   22.1\n",
      "1           2   44.5   39.3       45.1   10.4\n",
      "2           3   17.2   45.9       69.3    9.3\n",
      "3           4  151.5   41.3       58.5   18.5\n",
      "4           5  180.8   10.8       58.4   12.9\n",
      "\n",
      "Tail:\n",
      "      Unnamed: 0     TV  Radio  Newspaper  Sales\n",
      "195         196   38.2    3.7       13.8    7.6\n",
      "196         197   94.2    4.9        8.1    9.7\n",
      "197         198  177.0    9.3        6.4   12.8\n",
      "198         199  283.6   42.0       66.2   25.5\n",
      "199         200  232.1    8.6        8.7   13.4\n",
      "\n",
      "Shape: (200, 5)\n",
      "\n",
      "Info:\n",
      "<class 'pandas.core.frame.DataFrame'>\n",
      "RangeIndex: 200 entries, 0 to 199\n",
      "Data columns (total 5 columns):\n",
      " #   Column      Non-Null Count  Dtype  \n",
      "---  ------      --------------  -----  \n",
      " 0   Unnamed: 0  200 non-null    int64  \n",
      " 1   TV          200 non-null    float64\n",
      " 2   Radio       200 non-null    float64\n",
      " 3   Newspaper   200 non-null    float64\n",
      " 4   Sales       200 non-null    float64\n",
      "dtypes: float64(4), int64(1)\n",
      "memory usage: 7.9 KB\n",
      "\n",
      "Stats:\n",
      "        Unnamed: 0          TV       Radio   Newspaper       Sales\n",
      "count  200.000000  200.000000  200.000000  200.000000  200.000000\n",
      "mean   100.500000  147.042500   23.264000   30.554000   14.022500\n",
      "std     57.879185   85.854236   14.846809   21.778621    5.217457\n",
      "min      1.000000    0.700000    0.000000    0.300000    1.600000\n",
      "25%     50.750000   74.375000    9.975000   12.750000   10.375000\n",
      "50%    100.500000  149.750000   22.900000   25.750000   12.900000\n",
      "75%    150.250000  218.825000   36.525000   45.100000   17.400000\n",
      "max    200.000000  296.400000   49.600000  114.000000   27.000000\n"
     ]
    }
   ],
   "source": [
    "df = pd.read_csv(\"advertising.csv\")\n",
    "\n",
    "# Basic data exploration\n",
    "print(\"Head:\\n\", df.head())\n",
    "print(\"\\nTail:\\n\", df.tail())\n",
    "print(\"\\nShape:\", df.shape)\n",
    "print(\"\\nInfo:\")\n",
    "df.info()\n",
    "print(\"\\nStats:\\n\", df.describe())\n",
    "\n",
    "# Define features and target using short variable names\n",
    "X = df[['TV', 'Radio', 'Newspaper']]\n",
    "y = df['Sales']\n"
   ]
  },
  {
   "cell_type": "markdown",
   "metadata": {},
   "source": [
    "#### Split data: training (80%) and testing (20%)"
   ]
  },
  {
   "cell_type": "code",
   "execution_count": 20,
   "metadata": {},
   "outputs": [
    {
     "name": "stdout",
     "output_type": "stream",
     "text": [
      "\n",
      "Linear Reg Metrics:\n",
      "MSE: 3.1740973539761033\n",
      "RMSE: 1.78159966153345\n",
      "R²: 0.899438024100912\n"
     ]
    }
   ],
   "source": [
    "Xtr, Xts, ytr, yts = train_test_split(X, y, test_size=0.2, random_state=rs)\n",
    "\n",
    "lr = LinearRegression()\n",
    "lr.fit(Xtr, ytr)\n",
    "yl = lr.predict(Xts)\n",
    "\n",
    "print(\"\\nLinear Reg Metrics:\")\n",
    "print(\"MSE:\", mean_squared_error(yts, yl))\n",
    "print(\"RMSE:\", np.sqrt(mean_squared_error(yts, yl)))\n",
    "print(\"R²:\", r2_score(yts, yl))\n"
   ]
  },
  {
   "cell_type": "markdown",
   "metadata": {},
   "source": [
    "#### Lasso Regression"
   ]
  },
  {
   "cell_type": "code",
   "execution_count": 21,
   "metadata": {},
   "outputs": [
    {
     "name": "stdout",
     "output_type": "stream",
     "text": [
      "\n",
      "Lasso Reg Metrics:\n",
      "Coefs: [0.04469    0.18765683 0.00222556]\n",
      "MSE: 3.160502075170457\n",
      "RMSE: 1.7777800975290665\n",
      "R²: 0.8998687506814569\n"
     ]
    }
   ],
   "source": [
    "las = Lasso(alpha=0.4, random_state=rs)\n",
    "las.fit(Xtr, ytr)\n",
    "ya = las.predict(Xts)\n",
    "\n",
    "print(\"\\nLasso Reg Metrics:\")\n",
    "print(\"Coefs:\", las.coef_)\n",
    "print(\"MSE:\", mean_squared_error(yts, ya))\n",
    "print(\"RMSE:\", np.sqrt(mean_squared_error(yts, ya)))\n",
    "print(\"R²:\", r2_score(yts, ya))"
   ]
  },
  {
   "cell_type": "markdown",
   "metadata": {},
   "source": [
    "#### Plot Actual vs. Predicted for Lasso"
   ]
  },
  {
   "cell_type": "code",
   "execution_count": 22,
   "metadata": {},
   "outputs": [
    {
     "data": {
      "image/png": "[encoded data removed]",
      "text/plain": [
       "<Figure size 800x600 with 1 Axes>"
      ]
     },
     "metadata": {},
     "output_type": "display_data"
    }
   ],
   "source": [
    "plt.figure(figsize=(8,6))\n",
    "plt.scatter(yts, ya, color='green', label='Pred')\n",
    "plt.plot(yts, yts, color='red', label='Ideal')\n",
    "plt.xlabel('Actual')\n",
    "plt.ylabel('Predicted')\n",
    "plt.title('Lasso Regression')\n",
    "plt.legend()\n",
    "plt.show()"
   ]
  },
  {
   "cell_type": "markdown",
   "metadata": {},
   "source": [
    "\n",
    "# Part 2: Logistic Regression Classification\n",
    "\n",
    "We'll use the Iris dataset (filtered to a binary problem) to:\n",
    "- Train a Logistic Regression model.\n",
    "- Evaluate with Accuracy, Confusion Matrix, and Classification Report.\n",
    "- Plot an ROC Curve and compute AUC.\n",
    "\n"
   ]
  },
  {
   "cell_type": "markdown",
   "metadata": {},
   "source": [
    "#### Load and preprocess Iris dataset"
   ]
  },
  {
   "cell_type": "code",
   "execution_count": 23,
   "metadata": {},
   "outputs": [],
   "source": [
    "iris = load_iris()\n",
    "Xi, yi = iris.data, iris.target\n",
    "\n",
    "# Filter out class '2' to make it binary\n",
    "Xb = Xi[yi != 2]\n",
    "yb = yi[yi != 2]"
   ]
  },
  {
   "cell_type": "markdown",
   "metadata": {},
   "source": [
    "#### Split binary data: training (80%) and testing (20%)"
   ]
  },
  {
   "cell_type": "code",
   "execution_count": 24,
   "metadata": {},
   "outputs": [],
   "source": [
    "Xtr2, Xts2, ytr2, yts2 = train_test_split(Xb, yb, test_size=0.2, random_state=rs)\n"
   ]
  },
  {
   "cell_type": "markdown",
   "metadata": {},
   "source": [
    "#### Train and run Logistic Regression"
   ]
  },
  {
   "cell_type": "code",
   "execution_count": 25,
   "metadata": {},
   "outputs": [
    {
     "name": "stdout",
     "output_type": "stream",
     "text": [
      "\n",
      "Logistic Reg Metrics:\n",
      "Preds: [1 1 1 0 0 0 0 1 0 0 0 0 1 0 1 0 1 1 0 0]\n",
      "Accuracy: 1.0\n",
      "Confusion Matrix:\n",
      " [[12  0]\n",
      " [ 0  8]]\n",
      "Report:\n",
      "               precision    recall  f1-score   support\n",
      "\n",
      "           0       1.00      1.00      1.00        12\n",
      "           1       1.00      1.00      1.00         8\n",
      "\n",
      "    accuracy                           1.00        20\n",
      "   macro avg       1.00      1.00      1.00        20\n",
      "weighted avg       1.00      1.00      1.00        20\n",
      "\n"
     ]
    }
   ],
   "source": [
    "lg = LogisticRegression(random_state=rs)\n",
    "lg.fit(Xtr2, ytr2)\n",
    "\n",
    "# Make predictions\n",
    "yp = lg.predict(Xts2)\n",
    "\n",
    "print(\"\\nLogistic Reg Metrics:\")\n",
    "print(\"Preds:\", yp)\n",
    "print(\"Accuracy:\", accuracy_score(yts2, yp))\n",
    "print(\"Confusion Matrix:\\n\", confusion_matrix(yts2, yp))\n",
    "print(\"Report:\\n\", classification_report(yts2, yp))\n"
   ]
  },
  {
   "cell_type": "markdown",
   "metadata": {},
   "source": [
    "#### ROC Curve & AUC for Logistic Regression"
   ]
  },
  {
   "cell_type": "code",
   "execution_count": 26,
   "metadata": {},
   "outputs": [
    {
     "data": {
      "image/png": "[encoded data removed]",
      "text/plain": [
       "<Figure size 800x600 with 1 Axes>"
      ]
     },
     "metadata": {},
     "output_type": "display_data"
    }
   ],
   "source": [
    "ypb = lg.predict_proba(Xts2)[:, 1]\n",
    "fpr, tpr, thr = roc_curve(yts2, ypb)\n",
    "auc_val = auc(fpr, tpr)\n",
    "\n",
    "plt.figure(figsize=(8,6))\n",
    "plt.plot(fpr, tpr, label=f'LG (AUC = {auc_val:.2f})', color='darkorange', lw=2)\n",
    "plt.xlabel('FPR')\n",
    "plt.ylabel('TPR')\n",
    "plt.title('ROC Curve')\n",
    "plt.legend(loc=\"lower right\")\n",
    "plt.show()\n"
   ]
  }
 ],
 "metadata": {
  "kernelspec": {
   "display_name": "Python 3",
   "language": "python",
   "name": "python3"
  },
  "language_info": {
   "codemirror_mode": {
    "name": "ipython",
    "version": 3
   },
   "file_extension": ".py",
   "mimetype": "text/x-python",
   "name": "python",
   "nbconvert_exporter": "python",
   "pygments_lexer": "ipython3",
   "version": "3.13.2"
  }
 },
 "nbformat": 4,
 "nbformat_minor": 2
}
